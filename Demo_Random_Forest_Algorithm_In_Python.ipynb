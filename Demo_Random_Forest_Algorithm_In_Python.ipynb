{
 "cells": [
  {
   "cell_type": "markdown",
   "metadata": {
    "colab_type": "text",
    "id": "TxvRqE8u6f63"
   },
   "source": [
    "# **Demo: Random Forest Algorithm In Python**\n",
    "\n",
    "## Problem Definition:\n",
    "We are using 'breast cancer' dataset, present in the sklearn package. In our dataset there are 2 classes(benign and malignant) based on 30 measurements.\n",
    "We have to predict in which class an instance belongs to based on its measurements. We are using SVM algorithm to solve this binary-class classification problem"
   ]
  },
  {
   "cell_type": "markdown",
   "metadata": {
    "colab_type": "text",
    "id": "hB8pByt29QU7"
   },
   "source": [
    "## Objective\n",
    ">* **Classify:** We want to predict if a patient has malignant tumor or benign.\n",
    ">* **Understanding Random Forest:** For classification here we are using Random Forest Classifier, so let's see how it works.\n",
    ">* **Collecting the data**\n",
    ">* **Splitting the dataset for training and testing:** Since we want to know how good our model is, we will split the main dataset into training and testing datasets. The test data will be used later for evaluating.\n",
    ">* **Implenting Random Forest Classifier using sklearn**\n",
    ">* **Training the model:** We will create the model by training the algorithm on the training dataset(which contains the actual labels).\n",
    ">* **Testing the model:**  We will test the model on the test dataset to check how good our model works when it sees a new sample. \n",
    ">* **Model Performance:** We will calculate our model's performance, by comparing our predicted values with actual values."
   ]
  },
  {
   "cell_type": "markdown",
   "metadata": {
    "colab_type": "text",
    "id": "5bPkgVYSc8Ib"
   },
   "source": [
    "##Understanding Random Forest\n",
    "Random Forest is an ensemble method, it uses multiple decision trees for prediction. \n",
    "\n",
    "It creates different decision trees by creating different subsets of training data. For final prediction it takes voting from all the trees."
   ]
  },
  {
   "cell_type": "markdown",
   "metadata": {
    "colab_type": "text",
    "id": "7eYdWIyE9wcg"
   },
   "source": [
    "##Importing the libraries"
   ]
  },
  {
   "cell_type": "code",
   "execution_count": 1,
   "metadata": {
    "colab": {},
    "colab_type": "code",
    "id": "2YrAxRjvG1ah"
   },
   "outputs": [],
   "source": [
    "import warnings\n",
    "warnings.filterwarnings(action='ignore')"
   ]
  },
  {
   "cell_type": "code",
   "execution_count": 2,
   "metadata": {
    "colab": {},
    "colab_type": "code",
    "id": "7KTBhlKG5en8"
   },
   "outputs": [],
   "source": [
    "import pandas as pd\n",
    "\n",
    "from sklearn.datasets import load_breast_cancer\n",
    "from sklearn.metrics import accuracy_score\n",
    "from sklearn.ensemble import RandomForestClassifier\n",
    "from sklearn.model_selection import train_test_split"
   ]
  },
  {
   "cell_type": "markdown",
   "metadata": {
    "colab_type": "text",
    "id": "css6OWA1edNl"
   },
   "source": [
    "##Loading the data"
   ]
  },
  {
   "cell_type": "code",
   "execution_count": 3,
   "metadata": {
    "colab": {},
    "colab_type": "code",
    "id": "GNkMFjyV_OBR"
   },
   "outputs": [],
   "source": [
    "cancer=load_breast_cancer()\n",
    "X = pd.DataFrame(cancer.data)\n",
    "y = pd.DataFrame(cancer.target)"
   ]
  },
  {
   "cell_type": "code",
   "execution_count": 4,
   "metadata": {
    "colab": {
     "base_uri": "https://localhost:8080/",
     "height": 34
    },
    "colab_type": "code",
    "id": "RkRqlv8zMtZK",
    "outputId": "5787d67a-b741-4c99-f88f-fad10bff7b2d"
   },
   "outputs": [
    {
     "data": {
      "text/plain": [
       "(569, 30)"
      ]
     },
     "execution_count": 4,
     "metadata": {},
     "output_type": "execute_result"
    }
   ],
   "source": [
    "X.shape"
   ]
  },
  {
   "cell_type": "markdown",
   "metadata": {
    "colab_type": "text",
    "id": "MFmIuy_KelrR"
   },
   "source": [
    "##Splitting the dataset for training and testing."
   ]
  },
  {
   "cell_type": "code",
   "execution_count": 5,
   "metadata": {
    "colab": {},
    "colab_type": "code",
    "id": "Mc1CDIDTANLQ"
   },
   "outputs": [],
   "source": [
    "X_train,X_test,y_train,y_test=train_test_split(X,y,test_size=30,random_state=1)"
   ]
  },
  {
   "cell_type": "markdown",
   "metadata": {
    "colab_type": "text",
    "id": "6leUGwUVe3S7"
   },
   "source": [
    "##Implementing Random Forest using sklearn"
   ]
  },
  {
   "cell_type": "code",
   "execution_count": 6,
   "metadata": {
    "colab": {
     "base_uri": "https://localhost:8080/",
     "height": 34
    },
    "colab_type": "code",
    "id": "nXHL5u6ME6rI",
    "outputId": "0b80bc43-7ad3-46ee-fb2a-98a55aa3a2cb"
   },
   "outputs": [
    {
     "name": "stdout",
     "output_type": "stream",
     "text": [
      "0.9666666666666667\n"
     ]
    }
   ],
   "source": [
    "rfc = RandomForestClassifier()     #by default random forest is using 100 trees\n",
    "rfc.fit(X_train,y_train)\n",
    "\n",
    "y_pred=rfc.predict(X_test)\n",
    "\n",
    "print(accuracy_score(y_test,y_pred))"
   ]
  },
  {
   "cell_type": "markdown",
   "metadata": {
    "colab_type": "text",
    "id": "a-gEAxnHF-b5"
   },
   "source": [
    "## Let us try to understand the parameters of Random Forest Classifier"
   ]
  },
  {
   "cell_type": "code",
   "execution_count": null,
   "metadata": {},
   "outputs": [],
   "source": []
  },
  {
   "cell_type": "markdown",
   "metadata": {
    "colab_type": "text",
    "id": "HKSr09iuIKq6"
   },
   "source": [
    "**n_estimator** represents the number of trees used by random forest"
   ]
  },
  {
   "cell_type": "code",
   "execution_count": 7,
   "metadata": {
    "colab": {
     "base_uri": "https://localhost:8080/",
     "height": 255
    },
    "colab_type": "code",
    "id": "HFckz6EkF3dA",
    "outputId": "023dc76e-a6fc-4d88-82b6-293be84b34f0"
   },
   "outputs": [
    {
     "name": "stdout",
     "output_type": "stream",
     "text": [
      "10 0.9333333333333333\n",
      "20 0.9333333333333333\n",
      "30 0.9333333333333333\n",
      "40 0.9333333333333333\n",
      "50 0.9333333333333333\n",
      "60 0.9333333333333333\n",
      "70 0.9333333333333333\n",
      "80 0.9333333333333333\n",
      "90 0.9333333333333333\n",
      "100 0.9333333333333333\n",
      "110 0.9333333333333333\n",
      "120 0.9333333333333333\n",
      "130 0.9333333333333333\n",
      "140 0.9333333333333333\n"
     ]
    }
   ],
   "source": [
    "for trees in range(10, 150, 10):\n",
    "    \n",
    "    rf=RandomForestClassifier(n_estimators=trees,random_state=7)\n",
    "\n",
    "    rf.fit(X_train,y_train)\n",
    "    y_pred=rf.predict(X_test)\n",
    "    \n",
    "    print(trees, accuracy_score(y_test,y_pred))\n",
    "  "
   ]
  },
  {
   "cell_type": "markdown",
   "metadata": {
    "colab_type": "text",
    "id": "md7QY74lwCCC"
   },
   "source": [
    "**criterion:** a method to calculate the quality of split, for example gini,  entropy.\n",
    "\n",
    "**max_depth** maximum depth of each decision tree."
   ]
  },
  {
   "cell_type": "code",
   "execution_count": 8,
   "metadata": {
    "colab": {
     "base_uri": "https://localhost:8080/",
     "height": 34
    },
    "colab_type": "code",
    "id": "yzHb6VtwGsTG",
    "outputId": "e27f8487-daf4-4104-a582-a1f73bd4f6c8"
   },
   "outputs": [
    {
     "name": "stdout",
     "output_type": "stream",
     "text": [
      "0.9333333333333333\n"
     ]
    }
   ],
   "source": [
    "r=RandomForestClassifier(n_estimators=30,criterion='entropy',max_depth=3,random_state=7)     #by default criterion is gini\n",
    "r.fit(X_train,y_train)\n",
    "y_pred=r.predict(X_test)\n",
    "print(accuracy_score(y_test,y_pred))"
   ]
  },
  {
   "cell_type": "code",
   "execution_count": 9,
   "metadata": {
    "colab": {
     "base_uri": "https://localhost:8080/",
     "height": 34
    },
    "colab_type": "code",
    "id": "t0qwJ-udLXGO",
    "outputId": "db4d68bc-d4b9-4b94-d979-a5f7ef622d03"
   },
   "outputs": [
    {
     "name": "stdout",
     "output_type": "stream",
     "text": [
      "0.9333333333333333\n"
     ]
    }
   ],
   "source": [
    "r=RandomForestClassifier(n_estimators=30,criterion='gini',max_depth=13,random_state=7)\n",
    "r.fit(X_train,y_train)\n",
    "y_pred=r.predict(X_test)\n",
    "print(accuracy_score(y_test,y_pred))"
   ]
  },
  {
   "cell_type": "markdown",
   "metadata": {
    "colab_type": "text",
    "id": "ZGs7xPIqumlu"
   },
   "source": [
    "**max_features** represent the maximum number of features which will be used to create best_split by each decision tree."
   ]
  },
  {
   "cell_type": "code",
   "execution_count": 10,
   "metadata": {
    "colab": {
     "base_uri": "https://localhost:8080/",
     "height": 34
    },
    "colab_type": "code",
    "id": "xFBOClxiMOqd",
    "outputId": "affe975e-d382-4215-b0e1-863854f60e9d"
   },
   "outputs": [
    {
     "name": "stdout",
     "output_type": "stream",
     "text": [
      "0.9333333333333333\n"
     ]
    }
   ],
   "source": [
    "rfc2=RandomForestClassifier(n_estimators=30,criterion='gini',max_features=5,random_state=7)\n",
    "rfc2.fit(X_train,y_train)\n",
    "y_pred=rfc2.predict(X_test)\n",
    "print(accuracy_score(y_test,y_pred))"
   ]
  },
  {
   "cell_type": "code",
   "execution_count": 11,
   "metadata": {
    "colab": {
     "base_uri": "https://localhost:8080/",
     "height": 51
    },
    "colab_type": "code",
    "id": "wZjCZBToM0Vm",
    "outputId": "5a0c7b74-68b3-4966-c5c1-b9055a41a9d6"
   },
   "outputs": [
    {
     "name": "stdout",
     "output_type": "stream",
     "text": [
      "0.9333333333333333\n",
      "0.9554730983302412\n"
     ]
    }
   ],
   "source": [
    "rfc2=RandomForestClassifier(n_estimators=30, oob_score=True, random_state=111)\n",
    "\n",
    "rfc2.fit(X_train,y_train)\n",
    "\n",
    "y_pred=rfc2.predict(X_test)\n",
    "\n",
    "print(accuracy_score(y_test,y_pred))\n",
    "\n",
    "print(rfc2.oob_score_)"
   ]
  },
  {
   "cell_type": "code",
   "execution_count": 12,
   "metadata": {},
   "outputs": [
    {
     "data": {
      "text/plain": [
       "0.9536178107606679"
      ]
     },
     "execution_count": 12,
     "metadata": {},
     "output_type": "execute_result"
    }
   ],
   "source": [
    "0.9536178107606679"
   ]
  },
  {
   "cell_type": "markdown",
   "metadata": {
    "colab_type": "text",
    "id": "omr2xpenOfK_"
   },
   "source": [
    "the **feature_importances_** attribute gives us which features are important for prediction. It can be further used for feature selection in large datsets."
   ]
  },
  {
   "cell_type": "code",
   "execution_count": 13,
   "metadata": {
    "colab": {
     "base_uri": "https://localhost:8080/",
     "height": 102
    },
    "colab_type": "code",
    "id": "SwT9uRe3OGB-",
    "outputId": "d271b844-c835-4f6c-dc7e-7cb775cf5872"
   },
   "outputs": [
    {
     "name": "stdout",
     "output_type": "stream",
     "text": [
      "[0.02233103 0.01651001 0.0576928  0.05666557 0.00908835 0.00999851\n",
      " 0.05971653 0.1082808  0.00284243 0.00371258 0.01907734 0.00435095\n",
      " 0.00473628 0.0310185  0.0054387  0.00520413 0.00966317 0.00337525\n",
      " 0.003989   0.00333746 0.08738531 0.01477041 0.10394331 0.13692927\n",
      " 0.01042421 0.01520646 0.04197656 0.13751913 0.00799141 0.00682454]\n"
     ]
    }
   ],
   "source": [
    "print(rfc.feature_importances_)"
   ]
  },
  {
   "cell_type": "markdown",
   "metadata": {
    "colab_type": "text",
    "id": "oSZ8zD5PPfbB"
   },
   "source": [
    "The above output shows feature importance of each column, for example first column importance is 2.7%."
   ]
  },
  {
   "cell_type": "code",
   "execution_count": 14,
   "metadata": {
    "colab": {},
    "colab_type": "code",
    "id": "20fELS_GOQl5"
   },
   "outputs": [
    {
     "data": {
      "text/plain": [
       "array(['mean radius', 'mean texture', 'mean perimeter', 'mean area',\n",
       "       'mean smoothness', 'mean compactness', 'mean concavity',\n",
       "       'mean concave points', 'mean symmetry', 'mean fractal dimension',\n",
       "       'radius error', 'texture error', 'perimeter error', 'area error',\n",
       "       'smoothness error', 'compactness error', 'concavity error',\n",
       "       'concave points error', 'symmetry error',\n",
       "       'fractal dimension error', 'worst radius', 'worst texture',\n",
       "       'worst perimeter', 'worst area', 'worst smoothness',\n",
       "       'worst compactness', 'worst concavity', 'worst concave points',\n",
       "       'worst symmetry', 'worst fractal dimension'], dtype='<U23')"
      ]
     },
     "execution_count": 14,
     "metadata": {},
     "output_type": "execute_result"
    }
   ],
   "source": [
    "cancer.feature_names"
   ]
  },
  {
   "cell_type": "code",
   "execution_count": null,
   "metadata": {},
   "outputs": [],
   "source": []
  }
 ],
 "metadata": {
  "colab": {
   "name": "Demo_Random_Forest_Algorithm_In_Python.ipynb",
   "provenance": []
  },
  "kernelspec": {
   "display_name": "Python 3",
   "language": "python",
   "name": "python3"
  },
  "language_info": {
   "codemirror_mode": {
    "name": "ipython",
    "version": 3
   },
   "file_extension": ".py",
   "mimetype": "text/x-python",
   "name": "python",
   "nbconvert_exporter": "python",
   "pygments_lexer": "ipython3",
   "version": "3.6.10"
  }
 },
 "nbformat": 4,
 "nbformat_minor": 4
}
