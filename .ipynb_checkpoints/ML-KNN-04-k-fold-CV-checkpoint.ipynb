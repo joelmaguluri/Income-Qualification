{
 "cells": [
  {
   "cell_type": "code",
   "execution_count": 1,
   "metadata": {
    "collapsed": true
   },
   "outputs": [],
   "source": [
    "import random\n",
    "from math import *\n",
    "import operator\n",
    "import pandas as pd\n",
    "import numpy as np\n",
    "import matplotlib\n",
    "import matplotlib.pyplot as plt\n",
    "%matplotlib inline \n",
    "\n",
    "import seaborn as sns\n",
    "sns.set(style=\"white\", color_codes=True)"
   ]
  },
  {
   "cell_type": "code",
   "execution_count": 2,
   "metadata": {
    "collapsed": true
   },
   "outputs": [],
   "source": [
    "location = r\"E:\\\\MYLEARN\\\\2-ANALYTICS-DataScience\\\\datasets\\\\iris.csv\""
   ]
  },
  {
   "cell_type": "code",
   "execution_count": 3,
   "metadata": {
    "collapsed": true
   },
   "outputs": [],
   "source": [
    "# load the training data from iris.txt\n",
    "df_training_iris = pd.read_csv(location )"
   ]
  },
  {
   "cell_type": "code",
   "execution_count": 4,
   "metadata": {},
   "outputs": [
    {
     "data": {
      "text/plain": [
       "150"
      ]
     },
     "execution_count": 4,
     "metadata": {},
     "output_type": "execute_result"
    }
   ],
   "source": [
    "#len(df_training_iris)\n",
    "df_training_iris.shape[0]"
   ]
  },
  {
   "cell_type": "code",
   "execution_count": 7,
   "metadata": {},
   "outputs": [
    {
     "name": "stdout",
     "output_type": "stream",
     "text": [
      "k-fold run   0, Accuracy =  93.33 %\n",
      "k-fold run   1, Accuracy =  96.67 %\n",
      "k-fold run   2, Accuracy =  96.67 %\n",
      "k-fold run   3, Accuracy =  96.67 %\n",
      "k-fold run   4, Accuracy = 100.00 %\n",
      "Wall time: 11 s\n"
     ]
    }
   ],
   "source": [
    "%%time\n",
    "# set the value of k number of neighbors to choose\n",
    "k = 3\n",
    "\n",
    "# how many samples of test data to be taken out from the training data\n",
    "k_fold = 5\n",
    "\n",
    "# initialize a dataframe to store the run results\n",
    "df_k_fold_validation = pd.DataFrame(columns=['k_fold_run_no', \n",
    "                                             'no_incorrect_pred', \n",
    "                                             'accuracy_pct'])\n",
    "\n",
    "# initialize a dataframe to save all the test run results\n",
    "df_test_iris_results = pd.DataFrame()\n",
    "\n",
    "# randomly shuffle the dataframe\n",
    "df_training_iris = df_training_iris.reindex(np.random.permutation(df_training_iris.index))\n",
    "\n",
    "# how many records in the test data\n",
    "fraction = int(len(df_training_iris) / k_fold)\n",
    "#fraction = 15\n",
    "\n",
    "# For each k Fold \n",
    "for k_fold_ctr in range(k_fold):\n",
    "\n",
    "    # Build test set \n",
    "    df_test_iris = df_training_iris[k_fold_ctr*fraction : k_fold_ctr*fraction+fraction]\n",
    " \n",
    "    # Build Training set (removing the test set)\n",
    "    index_end = k_fold_ctr*fraction\n",
    "    df_training_iris_before  = df_training_iris[:index_end] \n",
    "    \n",
    "    index_start = k_fold_ctr*fraction + fraction\n",
    "    df_training_iris_after = df_training_iris[index_start:]  \n",
    " \n",
    "    df_training_iris_net = pd.concat([df_training_iris_before, df_training_iris_after])\n",
    "    \n",
    "    df_training_iris_net = df_training_iris_net.reset_index(drop=True)\n",
    "    df_test_iris = df_test_iris.reset_index(drop=True)\n",
    " \n",
    "    # add a column for 'pred_class'\n",
    "    df_test_iris['pred_class'] = ''\n",
    "    \n",
    "    df_training_iris_net['distance'] = 0\n",
    "    \n",
    "    # for each test sample\n",
    "    for index_test, row_test in df_test_iris.iterrows():\n",
    "\n",
    "        # for each row in the dataframe, calculate the distance\n",
    "        for index, row in df_training_iris_net.iterrows():\n",
    "            eucDist = sqrt(((float(row_test.sepal_length) - float(row['sepal_length'])) ** 2 +\n",
    "                            (float(row_test.sepal_width) - float(row['sepal_width'])) ** 2 +\n",
    "                            (float(row_test.petal_length) - float(row['petal_length'])) ** 2 +\n",
    "                            (float(row_test.petal_width) - float(row['petal_width'])) ** 2))\n",
    "\n",
    "            df_training_iris_net.loc[index, 'distance'] = eucDist\n",
    "            \n",
    "        # End for - distance calculation\n",
    "        \n",
    "        # sort on distance, ascending.\n",
    "        df_training_iris_net.sort_values('distance', ascending=True, inplace=True)\n",
    "\n",
    "        # select the first k rows, into a new df\n",
    "        df_training_iris_k = df_training_iris_net.iloc[0:k, :].copy()\n",
    "\n",
    "        # The resulting object will be in descending order so that the first element is the most \n",
    "        # frequently-occurring element. Excludes NA values by default.\n",
    "        df_training_iris_k_grouped = df_training_iris_k['class'].value_counts()\n",
    "        \n",
    "        # get the first index of the resulting pandas series above (value_counts)\n",
    "        pred_class = df_training_iris_k_grouped.index[0]\n",
    "\n",
    "        # save the predicated class in the test data frame\n",
    "        df_test_iris.at[index_test, 'pred_class'] = pred_class\n",
    "        \n",
    "    # End for - test class prediction\n",
    "    # find the mismatch count of class predication\n",
    "    no_mismatch_class = df_test_iris.loc[~(df_test_iris['pred_class'] == df_test_iris['class'])].shape[0]\n",
    "\n",
    "    # accuracy of prediction\n",
    "    accuracy_pct = 100-(no_mismatch_class/ df_test_iris.shape[0])*100\n",
    "\n",
    "    print('k-fold run {:3d},'.format(k_fold_ctr), 'Accuracy = {:6.2f} %'.format(accuracy_pct))\n",
    "\n",
    "    # save results into df_k_fold_validation\n",
    "    # k_fold_ctr\n",
    "    # accuracy %\n",
    "    df_k_fold_validation.at[k_fold_ctr, 'k_fold_run_no'] = k_fold_ctr\n",
    "    df_k_fold_validation.at[k_fold_ctr, 'no_incorrect_pred'] = no_mismatch_class\n",
    "    df_k_fold_validation.at[k_fold_ctr, 'accuracy_pct'] = accuracy_pct"
   ]
  },
  {
   "cell_type": "code",
   "execution_count": 8,
   "metadata": {},
   "outputs": [
    {
     "data": {
      "text/html": [
       "<div>\n",
       "<style>\n",
       "    .dataframe thead tr:only-child th {\n",
       "        text-align: right;\n",
       "    }\n",
       "\n",
       "    .dataframe thead th {\n",
       "        text-align: left;\n",
       "    }\n",
       "\n",
       "    .dataframe tbody tr th {\n",
       "        vertical-align: top;\n",
       "    }\n",
       "</style>\n",
       "<table border=\"1\" class=\"dataframe\">\n",
       "  <thead>\n",
       "    <tr style=\"text-align: right;\">\n",
       "      <th></th>\n",
       "      <th>k_fold_run_no</th>\n",
       "      <th>no_incorrect_pred</th>\n",
       "      <th>accuracy_pct</th>\n",
       "    </tr>\n",
       "  </thead>\n",
       "  <tbody>\n",
       "    <tr>\n",
       "      <th>0</th>\n",
       "      <td>0</td>\n",
       "      <td>2</td>\n",
       "      <td>93.3333</td>\n",
       "    </tr>\n",
       "    <tr>\n",
       "      <th>1</th>\n",
       "      <td>1</td>\n",
       "      <td>1</td>\n",
       "      <td>96.6667</td>\n",
       "    </tr>\n",
       "    <tr>\n",
       "      <th>2</th>\n",
       "      <td>2</td>\n",
       "      <td>1</td>\n",
       "      <td>96.6667</td>\n",
       "    </tr>\n",
       "    <tr>\n",
       "      <th>3</th>\n",
       "      <td>3</td>\n",
       "      <td>1</td>\n",
       "      <td>96.6667</td>\n",
       "    </tr>\n",
       "    <tr>\n",
       "      <th>4</th>\n",
       "      <td>4</td>\n",
       "      <td>0</td>\n",
       "      <td>100</td>\n",
       "    </tr>\n",
       "  </tbody>\n",
       "</table>\n",
       "</div>"
      ],
      "text/plain": [
       "  k_fold_run_no no_incorrect_pred accuracy_pct\n",
       "0             0                 2      93.3333\n",
       "1             1                 1      96.6667\n",
       "2             2                 1      96.6667\n",
       "3             3                 1      96.6667\n",
       "4             4                 0          100"
      ]
     },
     "execution_count": 8,
     "metadata": {},
     "output_type": "execute_result"
    }
   ],
   "source": [
    "df_k_fold_validation"
   ]
  },
  {
   "cell_type": "code",
   "execution_count": 9,
   "metadata": {},
   "outputs": [
    {
     "data": {
      "image/png": "[encoded data removed]",
      "text/plain": [
       "<matplotlib.figure.Figure at 0x199fe890ac8>"
      ]
     },
     "metadata": {},
     "output_type": "display_data"
    }
   ],
   "source": [
    "ax = df_k_fold_validation.plot(kind='line', \n",
    "        x='k_fold_run_no', \n",
    "        y='accuracy_pct', \n",
    "        figsize=(6,4),\n",
    "        title= 'kNN - Accuracy % across K-folds',\n",
    "        grid=True,\n",
    "        legend=True,\n",
    "        color='blue',\n",
    "        \n",
    "       );\n",
    "# Set the x-axis label\n",
    "ax.set_xlabel(\"K-fold run \")\n",
    "\n",
    "# Set the y-axis label\n",
    "ax.set_ylabel(\"Accuracy %\");"
   ]
  },
  {
   "cell_type": "code",
   "execution_count": null,
   "metadata": {
    "collapsed": true
   },
   "outputs": [],
   "source": []
  }
 ],
 "metadata": {
  "kernelspec": {
   "display_name": "Python 3",
   "language": "python",
   "name": "python3"
  },
  "language_info": {
   "codemirror_mode": {
    "name": "ipython",
    "version": 3
   },
   "file_extension": ".py",
   "mimetype": "text/x-python",
   "name": "python",
   "nbconvert_exporter": "python",
   "pygments_lexer": "ipython3",
   "version": "3.6.10"
  }
 },
 "nbformat": 4,
 "nbformat_minor": 2
}
