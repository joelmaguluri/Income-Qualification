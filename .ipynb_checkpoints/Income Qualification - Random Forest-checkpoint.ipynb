{
 "cells": [
  {
   "cell_type": "markdown",
   "metadata": {},
   "source": [
    "# Tasks to be Accomplished :\n",
    " \n",
    "Identify the output variable.\n",
    "\n",
    "Understand the type of data.\n",
    "\n",
    "Check if there are any biases in your dataset.\n",
    "\n",
    "Check whether all members of the house have the same poverty level.\n",
    "\n",
    "Check if there is a house without a family head.\n",
    "\n",
    "Set poverty level of the members and the head of the house within a family.\n",
    "\n",
    "Count how many null values are existing in columns.\n",
    "\n",
    "Remove null value rows of the target variable.\n",
    "\n",
    "Predict the accuracy using random forest classifier.\n",
    "\n",
    "Check the accuracy using random forest with cross validation."
   ]
  },
  {
   "cell_type": "code",
   "execution_count": 167,
   "metadata": {},
   "outputs": [],
   "source": [
    "import warnings\n",
    "warnings.filterwarnings(action='ignore')"
   ]
  },
  {
   "cell_type": "code",
   "execution_count": 168,
   "metadata": {
    "tags": []
   },
   "outputs": [],
   "source": [
    "import pandas as pd\n",
    "import numpy as np\n",
    "from IPython.display import Image\n",
    "from sklearn.metrics import accuracy_score\n",
    "from sklearn.ensemble import RandomForestClassifier\n",
    "from sklearn.model_selection import train_test_split\n",
    "import matplotlib.pyplot as plt\n",
    "import seaborn as sns"
   ]
  },
  {
   "cell_type": "code",
   "execution_count": 169,
   "metadata": {},
   "outputs": [],
   "source": [
    "location='./train.csv'\n",
    "location_test='./test.csv'"
   ]
  },
  {
   "cell_type": "code",
   "execution_count": 170,
   "metadata": {},
   "outputs": [],
   "source": [
    "df=pd.read_csv(location)\n",
    "df_test=pd.read_csv(location_test)"
   ]
  },
  {
   "cell_type": "code",
   "execution_count": null,
   "metadata": {},
   "outputs": [],
   "source": []
  },
  {
   "cell_type": "markdown",
   "metadata": {},
   "source": [
    "checking for the last column of the train data "
   ]
  },
  {
   "cell_type": "code",
   "execution_count": 171,
   "metadata": {
    "scrolled": false
   },
   "outputs": [
    {
     "data": {
      "text/html": [
       "<div>\n",
       "<style scoped>\n",
       "    .dataframe tbody tr th:only-of-type {\n",
       "        vertical-align: middle;\n",
       "    }\n",
       "\n",
       "    .dataframe tbody tr th {\n",
       "        vertical-align: top;\n",
       "    }\n",
       "\n",
       "    .dataframe thead th {\n",
       "        text-align: right;\n",
       "    }\n",
       "</style>\n",
       "<table border=\"1\" class=\"dataframe\">\n",
       "  <thead>\n",
       "    <tr style=\"text-align: right;\">\n",
       "      <th></th>\n",
       "      <th>Id</th>\n",
       "      <th>v2a1</th>\n",
       "      <th>hacdor</th>\n",
       "      <th>rooms</th>\n",
       "      <th>hacapo</th>\n",
       "      <th>v14a</th>\n",
       "      <th>refrig</th>\n",
       "      <th>v18q</th>\n",
       "      <th>v18q1</th>\n",
       "      <th>r4h1</th>\n",
       "      <th>...</th>\n",
       "      <th>SQBescolari</th>\n",
       "      <th>SQBage</th>\n",
       "      <th>SQBhogar_total</th>\n",
       "      <th>SQBedjefe</th>\n",
       "      <th>SQBhogar_nin</th>\n",
       "      <th>SQBovercrowding</th>\n",
       "      <th>SQBdependency</th>\n",
       "      <th>SQBmeaned</th>\n",
       "      <th>agesq</th>\n",
       "      <th>Target</th>\n",
       "    </tr>\n",
       "  </thead>\n",
       "  <tbody>\n",
       "    <tr>\n",
       "      <th>9556</th>\n",
       "      <td>ID_a38c64491</td>\n",
       "      <td>80000.0</td>\n",
       "      <td>0</td>\n",
       "      <td>6</td>\n",
       "      <td>0</td>\n",
       "      <td>1</td>\n",
       "      <td>1</td>\n",
       "      <td>0</td>\n",
       "      <td>NaN</td>\n",
       "      <td>0</td>\n",
       "      <td>...</td>\n",
       "      <td>64</td>\n",
       "      <td>441</td>\n",
       "      <td>25</td>\n",
       "      <td>81</td>\n",
       "      <td>1</td>\n",
       "      <td>1.5625</td>\n",
       "      <td>0.0625</td>\n",
       "      <td>68.0625</td>\n",
       "      <td>441</td>\n",
       "      <td>2</td>\n",
       "    </tr>\n",
       "  </tbody>\n",
       "</table>\n",
       "<p>1 rows × 143 columns</p>\n",
       "</div>"
      ],
      "text/plain": [
       "                Id     v2a1  hacdor  rooms  hacapo  v14a  refrig  v18q  v18q1  \\\n",
       "9556  ID_a38c64491  80000.0       0      6       0     1       1     0    NaN   \n",
       "\n",
       "      r4h1  ...  SQBescolari  SQBage  SQBhogar_total  SQBedjefe  SQBhogar_nin  \\\n",
       "9556     0  ...           64     441              25         81             1   \n",
       "\n",
       "      SQBovercrowding  SQBdependency  SQBmeaned  agesq  Target  \n",
       "9556           1.5625         0.0625    68.0625    441       2  \n",
       "\n",
       "[1 rows x 143 columns]"
      ]
     },
     "execution_count": 171,
     "metadata": {},
     "output_type": "execute_result"
    }
   ],
   "source": [
    "df.tail(1) # last column "
   ]
  },
  {
   "cell_type": "code",
   "execution_count": null,
   "metadata": {},
   "outputs": [],
   "source": []
  },
  {
   "cell_type": "markdown",
   "metadata": {},
   "source": [
    "concatenationg first and second data frame"
   ]
  },
  {
   "cell_type": "code",
   "execution_count": 172,
   "metadata": {},
   "outputs": [],
   "source": [
    "df=pd.concat([df,df_test ], ignore_index=True, sort=False)"
   ]
  },
  {
   "cell_type": "code",
   "execution_count": 173,
   "metadata": {},
   "outputs": [
    {
     "data": {
      "text/plain": [
       "Index(['Id', 'v2a1', 'hacdor', 'rooms', 'hacapo', 'v14a', 'refrig', 'v18q',\n",
       "       'v18q1', 'r4h1',\n",
       "       ...\n",
       "       'SQBescolari', 'SQBage', 'SQBhogar_total', 'SQBedjefe', 'SQBhogar_nin',\n",
       "       'SQBovercrowding', 'SQBdependency', 'SQBmeaned', 'agesq', 'Target'],\n",
       "      dtype='object', length=143)"
      ]
     },
     "execution_count": 173,
     "metadata": {},
     "output_type": "execute_result"
    }
   ],
   "source": [
    "df.columns"
   ]
  },
  {
   "cell_type": "code",
   "execution_count": null,
   "metadata": {},
   "outputs": [],
   "source": []
  },
  {
   "cell_type": "markdown",
   "metadata": {},
   "source": [
    "# Target variable is the Output variable "
   ]
  },
  {
   "cell_type": "code",
   "execution_count": 174,
   "metadata": {},
   "outputs": [
    {
     "data": {
      "text/plain": [
       "0        4.0\n",
       "1        4.0\n",
       "2        4.0\n",
       "3        4.0\n",
       "4        4.0\n",
       "        ... \n",
       "33408    NaN\n",
       "33409    NaN\n",
       "33410    NaN\n",
       "33411    NaN\n",
       "33412    NaN\n",
       "Name: Target, Length: 33413, dtype: float64"
      ]
     },
     "execution_count": 174,
     "metadata": {},
     "output_type": "execute_result"
    }
   ],
   "source": [
    "df.Target"
   ]
  },
  {
   "cell_type": "code",
   "execution_count": 175,
   "metadata": {},
   "outputs": [
    {
     "data": {
      "text/plain": [
       "4.0    5996\n",
       "2.0    1597\n",
       "3.0    1209\n",
       "1.0     755\n",
       "Name: Target, dtype: int64"
      ]
     },
     "execution_count": 175,
     "metadata": {},
     "output_type": "execute_result"
    }
   ],
   "source": [
    "df.Target.value_counts() # there are 4 catogeries "
   ]
  },
  {
   "cell_type": "code",
   "execution_count": null,
   "metadata": {},
   "outputs": [],
   "source": []
  },
  {
   "cell_type": "markdown",
   "metadata": {},
   "source": [
    "# Checking for the biases in the dataset i.e is there a class bias in the dataset?"
   ]
  },
  {
   "cell_type": "code",
   "execution_count": 176,
   "metadata": {},
   "outputs": [
    {
     "data": {
      "text/plain": [
       "<matplotlib.axes._subplots.AxesSubplot at 0x1939524f9b0>"
      ]
     },
     "execution_count": 176,
     "metadata": {},
     "output_type": "execute_result"
    },
    {
     "data": {
      "image/png": "[encoded data removed]",
      "text/plain": [
       "<Figure size 432x288 with 1 Axes>"
      ]
     },
     "metadata": {
      "needs_background": "light"
     },
     "output_type": "display_data"
    }
   ],
   "source": [
    "sns.violinplot(df.Target)"
   ]
  },
  {
   "cell_type": "code",
   "execution_count": 177,
   "metadata": {},
   "outputs": [
    {
     "data": {
      "text/plain": [
       "<matplotlib.axes._subplots.AxesSubplot at 0x19397a3ae48>"
      ]
     },
     "execution_count": 177,
     "metadata": {},
     "output_type": "execute_result"
    },
    {
     "data": {
      "image/png": "[encoded data removed]",
      "text/plain": [
       "<Figure size 432x288 with 1 Axes>"
      ]
     },
     "metadata": {
      "needs_background": "light"
     },
     "output_type": "display_data"
    }
   ],
   "source": [
    "sns.countplot(dataset.Target)"
   ]
  },
  {
   "cell_type": "markdown",
   "metadata": {},
   "source": [
    "from the above plot we understand that the majority catogery is 4 and hence we can conclude that the catogery 4 is dominating value \n",
    "and there is class imbalance in the dataset "
   ]
  },
  {
   "cell_type": "code",
   "execution_count": null,
   "metadata": {},
   "outputs": [],
   "source": []
  },
  {
   "cell_type": "code",
   "execution_count": 178,
   "metadata": {},
   "outputs": [],
   "source": [
    "def getCatogericalandNumericalColumns(columns):\n",
    "    \"\"\"this method segregates numerical and catogerical columns\"\"\"\n",
    "    numericalcolumns=[]\n",
    "    catogericalcolumns=[]\n",
    "    for column in columns:\n",
    "        if(len(df[column].value_counts())<=10):\n",
    "            catogericalcolumns.append(column)\n",
    "        else:\n",
    "            numericalcolumns.append(column)\n",
    "    return numericalcolumns,catogericalcolumns"
   ]
  },
  {
   "cell_type": "code",
   "execution_count": 179,
   "metadata": {},
   "outputs": [],
   "source": [
    "(noncatogerical,catogerical)=getCatogericalandNumericalColumns(df.columns)"
   ]
  },
  {
   "cell_type": "code",
   "execution_count": null,
   "metadata": {},
   "outputs": [],
   "source": []
  },
  {
   "cell_type": "markdown",
   "metadata": {},
   "source": [
    "extracting the numerical columns from the non catogerical columns"
   ]
  },
  {
   "cell_type": "code",
   "execution_count": 180,
   "metadata": {
    "tags": []
   },
   "outputs": [],
   "source": [
    "numerical_columns=[]\n",
    "for col in noncatogerical:\n",
    "    if(df[col].dtype!='object'):\n",
    "        numerical_columns.append(col)"
   ]
  },
  {
   "cell_type": "code",
   "execution_count": null,
   "metadata": {},
   "outputs": [],
   "source": []
  },
  {
   "cell_type": "markdown",
   "metadata": {},
   "source": [
    "drawing boxplots to check for the ouliers "
   ]
  },
  {
   "cell_type": "code",
   "execution_count": 181,
   "metadata": {
    "scrolled": true
   },
   "outputs": [
    {
     "data": {
      "image/png": "[encoded data removed]",
      "text/plain": [
       "<Figure size 1152x360 with 23 Axes>"
      ]
     },
     "metadata": {
      "needs_background": "light"
     },
     "output_type": "display_data"
    }
   ],
   "source": [
    "fig, (axes) = plt.subplots(nrows=1, ncols=len(numerical_columns), figsize=(16, 5))\n",
    "i=0\n",
    "for col in numerical_columns:\n",
    "    sns.boxplot(data=df[col],  palette='Set2', ax=axes[i])\n",
    "    i=i+1"
   ]
  },
  {
   "cell_type": "code",
   "execution_count": null,
   "metadata": {},
   "outputs": [],
   "source": []
  },
  {
   "cell_type": "markdown",
   "metadata": {},
   "source": [
    "# Using IQR method to deal with the outliers in the numerical columns"
   ]
  },
  {
   "cell_type": "code",
   "execution_count": 182,
   "metadata": {},
   "outputs": [],
   "source": [
    "Q1 = df[numerical_columns].quantile(0.25)\n",
    "Q3 = df[numerical_columns].quantile(0.75)\n",
    "IQR = Q3 - Q1"
   ]
  },
  {
   "cell_type": "code",
   "execution_count": 183,
   "metadata": {
    "scrolled": false,
    "tags": []
   },
   "outputs": [
    {
     "name": "stdout",
     "output_type": "stream",
     "text": [
      "Int64Index([  136,   137,   138,   139,   206,   207,   208,   209,   210,\n",
      "              211,\n",
      "            ...\n",
      "            28088, 28089, 28090, 31778, 31779, 31780, 31781, 31782, 33189,\n",
      "            33190],\n",
      "           dtype='int64', length=661)\n",
      "Int64Index([  272,   273,   274,   275,   276,   277,   435,   436,   437,\n",
      "              438,\n",
      "            ...\n",
      "            31976, 31977, 31978, 32398, 32399, 32400, 32401, 33179, 33180,\n",
      "            33181],\n",
      "           dtype='int64', length=295)\n",
      "Int64Index([  144,   145,   146,   147,   148,   149,   150,   151,   152,\n",
      "              153,\n",
      "            ...\n",
      "            28418, 28419, 32161, 32162, 32163, 32164, 32165, 32166, 32167,\n",
      "            32168],\n",
      "           dtype='int64', length=253)\n",
      "Int64Index([  144,   145,   146,   147,   148,   149,   150,   151,   152,\n",
      "              153,\n",
      "            ...\n",
      "            30568, 33159, 33160, 33161, 33162, 33163, 33164, 33165, 33166,\n",
      "            33167],\n",
      "           dtype='int64', length=624)\n",
      "Int64Index([  144,   145,   146,   147,   148,   149,   150,   151,   152,\n",
      "              153,\n",
      "            ...\n",
      "            30568, 33159, 33160, 33161, 33162, 33163, 33164, 33165, 33166,\n",
      "            33167],\n",
      "           dtype='int64', length=624)\n",
      "Int64Index([  144,   145,   146,   147,   148,   149,   150,   151,   152,\n",
      "              153,\n",
      "            ...\n",
      "            32540, 33159, 33160, 33161, 33162, 33163, 33164, 33165, 33166,\n",
      "            33167],\n",
      "           dtype='int64', length=835)\n",
      "Int64Index([], dtype='int64')\n",
      "Int64Index([  144,   145,   146,   147,   148,   149,   150,   151,   152,\n",
      "              153,\n",
      "            ...\n",
      "            30568, 33159, 33160, 33161, 33162, 33163, 33164, 33165, 33166,\n",
      "            33167],\n",
      "           dtype='int64', length=624)\n",
      "Int64Index([ 2467,  2468,  2469,  2470,  2471,  2472,  2473,  2474,  2475,\n",
      "             2476,\n",
      "            ...\n",
      "            32472, 32473, 33213, 33214, 33215, 33216, 33217, 33218, 33219,\n",
      "            33220],\n",
      "           dtype='int64', length=379)\n",
      "Int64Index([  144,   145,   146,   147,   148,   149,   150,   151,   152,\n",
      "              153,\n",
      "            ...\n",
      "            30568, 33159, 33160, 33161, 33162, 33163, 33164, 33165, 33166,\n",
      "            33167],\n",
      "           dtype='int64', length=624)\n",
      "Int64Index([   11,    12,   455,   456,   563,   724,   725,   801,   802,\n",
      "              803,\n",
      "            ...\n",
      "            31605, 31871, 31872, 31873, 31874, 31875, 32194, 32195, 32196,\n",
      "            32321],\n",
      "           dtype='int64', length=400)\n",
      "Int64Index([    7,     8,     9,    10,    15,    16,    17,    18,   144,\n",
      "              145,\n",
      "            ...\n",
      "            33336, 33337, 33338, 33339, 33403, 33404, 33405, 33406, 33407,\n",
      "            33408],\n",
      "           dtype='int64', length=1139)\n",
      "Int64Index([ 1231,  1232,  1233,  1234,  1550,  1551,  1552,  1858,  1859,\n",
      "             1860,\n",
      "            ...\n",
      "            25853, 25854, 32624, 32625, 32626, 32627, 32628, 32629, 32630,\n",
      "            32631],\n",
      "           dtype='int64', length=299)\n",
      "Int64Index([], dtype='int64')\n",
      "Int64Index([   45,    76,   102,   126,   128,   203,   208,   210,   212,\n",
      "              232,\n",
      "            ...\n",
      "            31942, 31974, 32196, 32198, 32321, 32339, 32520, 33189, 33190,\n",
      "            33223],\n",
      "           dtype='int64', length=821)\n",
      "Int64Index([    2,    13,    46,    86,   107,   109,   129,   163,   226,\n",
      "              237,\n",
      "            ...\n",
      "            33101, 33103, 33105, 33186, 33187, 33188, 33191, 33193, 33288,\n",
      "            33332],\n",
      "           dtype='int64', length=989)\n",
      "Int64Index([  144,   145,   146,   147,   148,   149,   150,   151,   152,\n",
      "              153,\n",
      "            ...\n",
      "            33219, 33220, 33340, 33341, 33342, 33343, 33344, 33345, 33346,\n",
      "            33347],\n",
      "           dtype='int64', length=1200)\n",
      "Int64Index([   19,    20,    26,    45,    46,    70,    71,    72,    73,\n",
      "               74,\n",
      "            ...\n",
      "            33164, 33165, 33166, 33167, 33222, 33223, 33224, 33225, 33226,\n",
      "            33274],\n",
      "           dtype='int64', length=2446)\n",
      "Int64Index([  186,   187,   188,   189,   190,   191,   192,   193,   194,\n",
      "              285,\n",
      "            ...\n",
      "            33344, 33345, 33346, 33347, 33394, 33395, 33396, 33397, 33398,\n",
      "            33399],\n",
      "           dtype='int64', length=2355)\n",
      "Int64Index([    7,     8,     9,    10,    15,    16,    17,    18,    23,\n",
      "               24,\n",
      "            ...\n",
      "            33396, 33397, 33398, 33399, 33403, 33404, 33405, 33406, 33407,\n",
      "            33408],\n",
      "           dtype='int64', length=2889)\n",
      "Int64Index([    1,     2,    15,    16,    17,    18,    21,    22,    45,\n",
      "               46,\n",
      "            ...\n",
      "            33283, 33284, 33285, 33314, 33315, 33316, 33317, 33318, 33392,\n",
      "            33393],\n",
      "           dtype='int64', length=3098)\n",
      "Int64Index([   11,    12,    15,    16,    17,    18,   210,   211,   212,\n",
      "              232,\n",
      "            ...\n",
      "            33190, 33222, 33223, 33224, 33225, 33226, 33272, 33273, 33387,\n",
      "            33388],\n",
      "           dtype='int64', length=1369)\n",
      "Int64Index([    2,    13,    46,    86,   107,   109,   129,   163,   226,\n",
      "              237,\n",
      "            ...\n",
      "            33101, 33103, 33105, 33186, 33187, 33188, 33191, 33193, 33288,\n",
      "            33332],\n",
      "           dtype='int64', length=989)\n"
     ]
    }
   ],
   "source": [
    "for col in numerical_columns:\n",
    "    low  = Q1[col] - 1.5 * IQR[col]\n",
    "    high = Q3[col] + 1.5 * IQR[col]\n",
    "# Filtering Values between Q1-1.5IQR and Q3+1.5IQR\n",
    "    query_string = '{} < @low or {} > @high'.format(col, col)\n",
    "\n",
    "    outlier_arr1 = df.query(query_string).index\n",
    "    print(outlier_arr1)"
   ]
  },
  {
   "cell_type": "code",
   "execution_count": null,
   "metadata": {},
   "outputs": [],
   "source": []
  },
  {
   "cell_type": "markdown",
   "metadata": {},
   "source": [
    "### replacing the outliers with the boundary values "
   ]
  },
  {
   "cell_type": "code",
   "execution_count": 184,
   "metadata": {},
   "outputs": [],
   "source": [
    "def updateNumLowHigh(col):\n",
    "    low  = Q1[col] - 1.5 * IQR[col]\n",
    "    high = Q3[col] + 1.5 * IQR[col]\n",
    "    df.loc[df[col]<low,[col]]=low\n",
    "    df.loc[df[col]>high,[col]]=high"
   ]
  },
  {
   "cell_type": "code",
   "execution_count": 185,
   "metadata": {},
   "outputs": [],
   "source": [
    "for col in numerical_columns:\n",
    "    updateNumLowHigh(col)"
   ]
  },
  {
   "cell_type": "code",
   "execution_count": 186,
   "metadata": {},
   "outputs": [
    {
     "data": {
      "text/html": [
       "<div>\n",
       "<style scoped>\n",
       "    .dataframe tbody tr th:only-of-type {\n",
       "        vertical-align: middle;\n",
       "    }\n",
       "\n",
       "    .dataframe tbody tr th {\n",
       "        vertical-align: top;\n",
       "    }\n",
       "\n",
       "    .dataframe thead th {\n",
       "        text-align: right;\n",
       "    }\n",
       "</style>\n",
       "<table border=\"1\" class=\"dataframe\">\n",
       "  <thead>\n",
       "    <tr style=\"text-align: right;\">\n",
       "      <th></th>\n",
       "      <th>Id</th>\n",
       "      <th>v2a1</th>\n",
       "      <th>hacdor</th>\n",
       "      <th>rooms</th>\n",
       "      <th>hacapo</th>\n",
       "      <th>v14a</th>\n",
       "      <th>refrig</th>\n",
       "      <th>v18q</th>\n",
       "      <th>v18q1</th>\n",
       "      <th>r4h1</th>\n",
       "      <th>...</th>\n",
       "      <th>SQBescolari</th>\n",
       "      <th>SQBage</th>\n",
       "      <th>SQBhogar_total</th>\n",
       "      <th>SQBedjefe</th>\n",
       "      <th>SQBhogar_nin</th>\n",
       "      <th>SQBovercrowding</th>\n",
       "      <th>SQBdependency</th>\n",
       "      <th>SQBmeaned</th>\n",
       "      <th>agesq</th>\n",
       "      <th>Target</th>\n",
       "    </tr>\n",
       "  </thead>\n",
       "  <tbody>\n",
       "    <tr>\n",
       "      <th>0</th>\n",
       "      <td>ID_279628684</td>\n",
       "      <td>190000.0</td>\n",
       "      <td>0</td>\n",
       "      <td>3.0</td>\n",
       "      <td>0</td>\n",
       "      <td>1</td>\n",
       "      <td>1</td>\n",
       "      <td>0</td>\n",
       "      <td>NaN</td>\n",
       "      <td>0</td>\n",
       "      <td>...</td>\n",
       "      <td>100.0</td>\n",
       "      <td>1849.0</td>\n",
       "      <td>1.0</td>\n",
       "      <td>100.0</td>\n",
       "      <td>0.0</td>\n",
       "      <td>1.000000</td>\n",
       "      <td>0.000000</td>\n",
       "      <td>100.0000</td>\n",
       "      <td>1849.0</td>\n",
       "      <td>4.0</td>\n",
       "    </tr>\n",
       "    <tr>\n",
       "      <th>1</th>\n",
       "      <td>ID_f29eb3ddd</td>\n",
       "      <td>135000.0</td>\n",
       "      <td>0</td>\n",
       "      <td>4.0</td>\n",
       "      <td>0</td>\n",
       "      <td>1</td>\n",
       "      <td>1</td>\n",
       "      <td>1</td>\n",
       "      <td>1.0</td>\n",
       "      <td>0</td>\n",
       "      <td>...</td>\n",
       "      <td>144.0</td>\n",
       "      <td>4489.0</td>\n",
       "      <td>1.0</td>\n",
       "      <td>144.0</td>\n",
       "      <td>0.0</td>\n",
       "      <td>1.000000</td>\n",
       "      <td>4.277778</td>\n",
       "      <td>144.0000</td>\n",
       "      <td>4489.0</td>\n",
       "      <td>4.0</td>\n",
       "    </tr>\n",
       "    <tr>\n",
       "      <th>2</th>\n",
       "      <td>ID_68de51c94</td>\n",
       "      <td>NaN</td>\n",
       "      <td>0</td>\n",
       "      <td>8.0</td>\n",
       "      <td>0</td>\n",
       "      <td>1</td>\n",
       "      <td>1</td>\n",
       "      <td>0</td>\n",
       "      <td>NaN</td>\n",
       "      <td>0</td>\n",
       "      <td>...</td>\n",
       "      <td>121.0</td>\n",
       "      <td>6069.0</td>\n",
       "      <td>1.0</td>\n",
       "      <td>0.0</td>\n",
       "      <td>0.0</td>\n",
       "      <td>0.250000</td>\n",
       "      <td>4.277778</td>\n",
       "      <td>121.0000</td>\n",
       "      <td>6069.0</td>\n",
       "      <td>4.0</td>\n",
       "    </tr>\n",
       "    <tr>\n",
       "      <th>3</th>\n",
       "      <td>ID_d671db89c</td>\n",
       "      <td>180000.0</td>\n",
       "      <td>0</td>\n",
       "      <td>5.0</td>\n",
       "      <td>0</td>\n",
       "      <td>1</td>\n",
       "      <td>1</td>\n",
       "      <td>1</td>\n",
       "      <td>1.0</td>\n",
       "      <td>0</td>\n",
       "      <td>...</td>\n",
       "      <td>81.0</td>\n",
       "      <td>289.0</td>\n",
       "      <td>16.0</td>\n",
       "      <td>121.0</td>\n",
       "      <td>4.0</td>\n",
       "      <td>1.777778</td>\n",
       "      <td>1.000000</td>\n",
       "      <td>121.0000</td>\n",
       "      <td>289.0</td>\n",
       "      <td>4.0</td>\n",
       "    </tr>\n",
       "    <tr>\n",
       "      <th>4</th>\n",
       "      <td>ID_d56d6f5f5</td>\n",
       "      <td>180000.0</td>\n",
       "      <td>0</td>\n",
       "      <td>5.0</td>\n",
       "      <td>0</td>\n",
       "      <td>1</td>\n",
       "      <td>1</td>\n",
       "      <td>1</td>\n",
       "      <td>1.0</td>\n",
       "      <td>0</td>\n",
       "      <td>...</td>\n",
       "      <td>121.0</td>\n",
       "      <td>1369.0</td>\n",
       "      <td>16.0</td>\n",
       "      <td>121.0</td>\n",
       "      <td>4.0</td>\n",
       "      <td>1.777778</td>\n",
       "      <td>1.000000</td>\n",
       "      <td>121.0000</td>\n",
       "      <td>1369.0</td>\n",
       "      <td>4.0</td>\n",
       "    </tr>\n",
       "    <tr>\n",
       "      <th>...</th>\n",
       "      <td>...</td>\n",
       "      <td>...</td>\n",
       "      <td>...</td>\n",
       "      <td>...</td>\n",
       "      <td>...</td>\n",
       "      <td>...</td>\n",
       "      <td>...</td>\n",
       "      <td>...</td>\n",
       "      <td>...</td>\n",
       "      <td>...</td>\n",
       "      <td>...</td>\n",
       "      <td>...</td>\n",
       "      <td>...</td>\n",
       "      <td>...</td>\n",
       "      <td>...</td>\n",
       "      <td>...</td>\n",
       "      <td>...</td>\n",
       "      <td>...</td>\n",
       "      <td>...</td>\n",
       "      <td>...</td>\n",
       "      <td>...</td>\n",
       "    </tr>\n",
       "    <tr>\n",
       "      <th>33408</th>\n",
       "      <td>ID_a065a7cad</td>\n",
       "      <td>NaN</td>\n",
       "      <td>1</td>\n",
       "      <td>2.0</td>\n",
       "      <td>1</td>\n",
       "      <td>1</td>\n",
       "      <td>1</td>\n",
       "      <td>0</td>\n",
       "      <td>NaN</td>\n",
       "      <td>0</td>\n",
       "      <td>...</td>\n",
       "      <td>9.0</td>\n",
       "      <td>100.0</td>\n",
       "      <td>36.0</td>\n",
       "      <td>25.0</td>\n",
       "      <td>4.0</td>\n",
       "      <td>8.500000</td>\n",
       "      <td>0.250000</td>\n",
       "      <td>33.0625</td>\n",
       "      <td>100.0</td>\n",
       "      <td>NaN</td>\n",
       "    </tr>\n",
       "    <tr>\n",
       "      <th>33409</th>\n",
       "      <td>ID_1a7c6953b</td>\n",
       "      <td>NaN</td>\n",
       "      <td>0</td>\n",
       "      <td>3.0</td>\n",
       "      <td>0</td>\n",
       "      <td>1</td>\n",
       "      <td>1</td>\n",
       "      <td>0</td>\n",
       "      <td>NaN</td>\n",
       "      <td>0</td>\n",
       "      <td>...</td>\n",
       "      <td>36.0</td>\n",
       "      <td>2916.0</td>\n",
       "      <td>16.0</td>\n",
       "      <td>36.0</td>\n",
       "      <td>4.0</td>\n",
       "      <td>4.000000</td>\n",
       "      <td>1.000000</td>\n",
       "      <td>36.0000</td>\n",
       "      <td>2916.0</td>\n",
       "      <td>NaN</td>\n",
       "    </tr>\n",
       "    <tr>\n",
       "      <th>33410</th>\n",
       "      <td>ID_07dbb4be2</td>\n",
       "      <td>NaN</td>\n",
       "      <td>0</td>\n",
       "      <td>3.0</td>\n",
       "      <td>0</td>\n",
       "      <td>1</td>\n",
       "      <td>1</td>\n",
       "      <td>0</td>\n",
       "      <td>NaN</td>\n",
       "      <td>0</td>\n",
       "      <td>...</td>\n",
       "      <td>16.0</td>\n",
       "      <td>144.0</td>\n",
       "      <td>16.0</td>\n",
       "      <td>36.0</td>\n",
       "      <td>4.0</td>\n",
       "      <td>4.000000</td>\n",
       "      <td>1.000000</td>\n",
       "      <td>36.0000</td>\n",
       "      <td>144.0</td>\n",
       "      <td>NaN</td>\n",
       "    </tr>\n",
       "    <tr>\n",
       "      <th>33411</th>\n",
       "      <td>ID_34d2ed046</td>\n",
       "      <td>NaN</td>\n",
       "      <td>0</td>\n",
       "      <td>3.0</td>\n",
       "      <td>0</td>\n",
       "      <td>1</td>\n",
       "      <td>1</td>\n",
       "      <td>0</td>\n",
       "      <td>NaN</td>\n",
       "      <td>0</td>\n",
       "      <td>...</td>\n",
       "      <td>25.0</td>\n",
       "      <td>144.0</td>\n",
       "      <td>16.0</td>\n",
       "      <td>36.0</td>\n",
       "      <td>4.0</td>\n",
       "      <td>4.000000</td>\n",
       "      <td>1.000000</td>\n",
       "      <td>36.0000</td>\n",
       "      <td>144.0</td>\n",
       "      <td>NaN</td>\n",
       "    </tr>\n",
       "    <tr>\n",
       "      <th>33412</th>\n",
       "      <td>ID_34754556f</td>\n",
       "      <td>NaN</td>\n",
       "      <td>0</td>\n",
       "      <td>3.0</td>\n",
       "      <td>0</td>\n",
       "      <td>1</td>\n",
       "      <td>1</td>\n",
       "      <td>0</td>\n",
       "      <td>NaN</td>\n",
       "      <td>0</td>\n",
       "      <td>...</td>\n",
       "      <td>36.0</td>\n",
       "      <td>2601.0</td>\n",
       "      <td>16.0</td>\n",
       "      <td>36.0</td>\n",
       "      <td>4.0</td>\n",
       "      <td>4.000000</td>\n",
       "      <td>1.000000</td>\n",
       "      <td>36.0000</td>\n",
       "      <td>2601.0</td>\n",
       "      <td>NaN</td>\n",
       "    </tr>\n",
       "  </tbody>\n",
       "</table>\n",
       "<p>33413 rows × 143 columns</p>\n",
       "</div>"
      ],
      "text/plain": [
       "                 Id      v2a1  hacdor  rooms  hacapo  v14a  refrig  v18q  \\\n",
       "0      ID_279628684  190000.0       0    3.0       0     1       1     0   \n",
       "1      ID_f29eb3ddd  135000.0       0    4.0       0     1       1     1   \n",
       "2      ID_68de51c94       NaN       0    8.0       0     1       1     0   \n",
       "3      ID_d671db89c  180000.0       0    5.0       0     1       1     1   \n",
       "4      ID_d56d6f5f5  180000.0       0    5.0       0     1       1     1   \n",
       "...             ...       ...     ...    ...     ...   ...     ...   ...   \n",
       "33408  ID_a065a7cad       NaN       1    2.0       1     1       1     0   \n",
       "33409  ID_1a7c6953b       NaN       0    3.0       0     1       1     0   \n",
       "33410  ID_07dbb4be2       NaN       0    3.0       0     1       1     0   \n",
       "33411  ID_34d2ed046       NaN       0    3.0       0     1       1     0   \n",
       "33412  ID_34754556f       NaN       0    3.0       0     1       1     0   \n",
       "\n",
       "       v18q1  r4h1  ...  SQBescolari  SQBage  SQBhogar_total  SQBedjefe  \\\n",
       "0        NaN     0  ...        100.0  1849.0             1.0      100.0   \n",
       "1        1.0     0  ...        144.0  4489.0             1.0      144.0   \n",
       "2        NaN     0  ...        121.0  6069.0             1.0        0.0   \n",
       "3        1.0     0  ...         81.0   289.0            16.0      121.0   \n",
       "4        1.0     0  ...        121.0  1369.0            16.0      121.0   \n",
       "...      ...   ...  ...          ...     ...             ...        ...   \n",
       "33408    NaN     0  ...          9.0   100.0            36.0       25.0   \n",
       "33409    NaN     0  ...         36.0  2916.0            16.0       36.0   \n",
       "33410    NaN     0  ...         16.0   144.0            16.0       36.0   \n",
       "33411    NaN     0  ...         25.0   144.0            16.0       36.0   \n",
       "33412    NaN     0  ...         36.0  2601.0            16.0       36.0   \n",
       "\n",
       "       SQBhogar_nin  SQBovercrowding  SQBdependency  SQBmeaned   agesq  Target  \n",
       "0               0.0         1.000000       0.000000   100.0000  1849.0     4.0  \n",
       "1               0.0         1.000000       4.277778   144.0000  4489.0     4.0  \n",
       "2               0.0         0.250000       4.277778   121.0000  6069.0     4.0  \n",
       "3               4.0         1.777778       1.000000   121.0000   289.0     4.0  \n",
       "4               4.0         1.777778       1.000000   121.0000  1369.0     4.0  \n",
       "...             ...              ...            ...        ...     ...     ...  \n",
       "33408           4.0         8.500000       0.250000    33.0625   100.0     NaN  \n",
       "33409           4.0         4.000000       1.000000    36.0000  2916.0     NaN  \n",
       "33410           4.0         4.000000       1.000000    36.0000   144.0     NaN  \n",
       "33411           4.0         4.000000       1.000000    36.0000   144.0     NaN  \n",
       "33412           4.0         4.000000       1.000000    36.0000  2601.0     NaN  \n",
       "\n",
       "[33413 rows x 143 columns]"
      ]
     },
     "execution_count": 186,
     "metadata": {},
     "output_type": "execute_result"
    }
   ],
   "source": [
    "df"
   ]
  },
  {
   "cell_type": "code",
   "execution_count": null,
   "metadata": {},
   "outputs": [],
   "source": []
  },
  {
   "cell_type": "code",
   "execution_count": 187,
   "metadata": {},
   "outputs": [],
   "source": [
    "null_columns=df.loc[:,df.isnull().any()].columns"
   ]
  },
  {
   "cell_type": "markdown",
   "metadata": {},
   "source": [
    "# Columns which have null values are "
   ]
  },
  {
   "cell_type": "code",
   "execution_count": 228,
   "metadata": {},
   "outputs": [
    {
     "data": {
      "text/plain": [
       "Index(['v2a1', 'v18q1', 'rez_esc', 'meaneduc', 'SQBmeaned', 'Target'], dtype='object')"
      ]
     },
     "execution_count": 228,
     "metadata": {},
     "output_type": "execute_result"
    }
   ],
   "source": [
    "null_columns"
   ]
  },
  {
   "cell_type": "code",
   "execution_count": 188,
   "metadata": {},
   "outputs": [],
   "source": [
    "cat_null_columns=null_columns[null_columns.isin(catogerical)]"
   ]
  },
  {
   "cell_type": "code",
   "execution_count": 189,
   "metadata": {},
   "outputs": [
    {
     "data": {
      "text/plain": [
       "Index(['v18q1', 'rez_esc', 'Target'], dtype='object')"
      ]
     },
     "execution_count": 189,
     "metadata": {},
     "output_type": "execute_result"
    }
   ],
   "source": [
    "cat_null_columns"
   ]
  },
  {
   "cell_type": "code",
   "execution_count": null,
   "metadata": {},
   "outputs": [],
   "source": []
  },
  {
   "cell_type": "markdown",
   "metadata": {},
   "source": [
    "## Imputing the catogerical null columns using most frequent strategy "
   ]
  },
  {
   "cell_type": "code",
   "execution_count": 190,
   "metadata": {},
   "outputs": [],
   "source": [
    "from sklearn.impute import SimpleImputer \n",
    "imputer = SimpleImputer(missing_values=np.NaN, strategy='most_frequent')"
   ]
  },
  {
   "cell_type": "code",
   "execution_count": 191,
   "metadata": {},
   "outputs": [],
   "source": [
    "df.loc[:,cat_null_columns]=imputer.fit_transform(df[cat_null_columns])"
   ]
  },
  {
   "cell_type": "code",
   "execution_count": 192,
   "metadata": {},
   "outputs": [],
   "source": [
    "non_cat_null_columns=null_columns[~null_columns.isin(catogerical)]"
   ]
  },
  {
   "cell_type": "code",
   "execution_count": null,
   "metadata": {},
   "outputs": [],
   "source": []
  },
  {
   "cell_type": "markdown",
   "metadata": {},
   "source": [
    "## Imputing the numerical null columns using median strategy"
   ]
  },
  {
   "cell_type": "code",
   "execution_count": 193,
   "metadata": {},
   "outputs": [],
   "source": [
    "imputer = SimpleImputer(missing_values=np.NaN, strategy='median')\n"
   ]
  },
  {
   "cell_type": "code",
   "execution_count": 194,
   "metadata": {},
   "outputs": [],
   "source": [
    "df.loc[:,non_cat_null_columns]=imputer.fit_transform(df[non_cat_null_columns])"
   ]
  },
  {
   "cell_type": "code",
   "execution_count": 195,
   "metadata": {},
   "outputs": [],
   "source": [
    "#total unique households \n",
    "TotalHouseholds=np.unique(df.idhogar)"
   ]
  },
  {
   "cell_type": "code",
   "execution_count": 196,
   "metadata": {},
   "outputs": [
    {
     "data": {
      "text/plain": [
       "'000a08204'"
      ]
     },
     "execution_count": 196,
     "metadata": {},
     "output_type": "execute_result"
    }
   ],
   "source": [
    "TotalHouseholds[0]"
   ]
  },
  {
   "cell_type": "code",
   "execution_count": null,
   "metadata": {},
   "outputs": [],
   "source": []
  },
  {
   "cell_type": "markdown",
   "metadata": {},
   "source": [
    "## checking if there are any mismatches in the house hold poverty levels"
   ]
  },
  {
   "cell_type": "code",
   "execution_count": 197,
   "metadata": {
    "tags": []
   },
   "outputs": [],
   "source": [
    "def findAllmisMatchedHouseholdPovLevels():\n",
    "    mismatchHouseList = []\n",
    "    mismatchIDList =[]\n",
    "    #Iterate through full data\n",
    "    for houseid in np.unique(df.idhogar):\n",
    "        householdData = df[df.idhogar==houseid]\n",
    "        latched = False\n",
    "        targetValLatch= 1\n",
    "        for id in householdData.Id:\n",
    "            if (not latched):\n",
    "                targetValLatch = householdData[householdData.Id==id].Target.values.ravel()\n",
    "                latched = True\n",
    "            else:\n",
    "                if (targetValLatch!= (householdData[householdData.Id==id].Target.values.ravel())):\n",
    "                    print(\"Mimatch found!! \\n\")\n",
    "                    print(\"Id {} has differnt target{} than latched {} \".format(id,householdData[householdData.Id==id].Target.values.ravel(),targetValLatch))\n",
    "                    mismatchHouseList.append(houseid)\n",
    "                    mismatchIDList.append(id)\n",
    "                else:\n",
    "                    print(\"Matched for Household {}\".format(id))\n",
    "    return mismatchHouseList,mismatchIDList"
   ]
  },
  {
   "cell_type": "code",
   "execution_count": null,
   "metadata": {},
   "outputs": [],
   "source": []
  },
  {
   "cell_type": "markdown",
   "metadata": {},
   "source": [
    "# Handling mismatches of poverty levels"
   ]
  },
  {
   "cell_type": "markdown",
   "metadata": {},
   "source": [
    "some have multiple mismatches\n",
    "\n",
    "setting the  mismatches target(Poverty level) to the majority class \n",
    "\n",
    "option2: we can replaced the missmatched rows with the poverty level of the household head"
   ]
  },
  {
   "cell_type": "code",
   "execution_count": 198,
   "metadata": {},
   "outputs": [],
   "source": [
    "def handleMisMatches():\n",
    "    resp=[]\n",
    "    for id in mismatchIDList:\n",
    "        idhogar=df.loc[df.Id==id,['idhogar']].values.ravel()[0]\n",
    "        dataset=df.loc[df.idhogar==idhogar,['Target','parentesco1']]\n",
    "        target=df.Target.values.ravel()[0]\n",
    "        df.loc[df.idhogar==idhogar,['Target']]=target"
   ]
  },
  {
   "cell_type": "code",
   "execution_count": 199,
   "metadata": {},
   "outputs": [],
   "source": [
    "handleMisMatches()"
   ]
  },
  {
   "cell_type": "code",
   "execution_count": null,
   "metadata": {},
   "outputs": [],
   "source": []
  },
  {
   "cell_type": "markdown",
   "metadata": {},
   "source": [
    "## checking if there are any other data type columns  other than int or float"
   ]
  },
  {
   "cell_type": "code",
   "execution_count": 200,
   "metadata": {},
   "outputs": [],
   "source": [
    "datatypesOfFeatures=df.dtypes"
   ]
  },
  {
   "cell_type": "code",
   "execution_count": 201,
   "metadata": {},
   "outputs": [],
   "source": [
    "datatypesOfFeatures=datatypesOfFeatures[df.dtypes!='int64']"
   ]
  },
  {
   "cell_type": "code",
   "execution_count": 202,
   "metadata": {},
   "outputs": [],
   "source": [
    "datatypesOfFeatures=datatypesOfFeatures[df.dtypes!='float64']"
   ]
  },
  {
   "cell_type": "code",
   "execution_count": 203,
   "metadata": {},
   "outputs": [
    {
     "data": {
      "text/plain": [
       "Id            object\n",
       "idhogar       object\n",
       "dependency    object\n",
       "edjefe        object\n",
       "edjefa        object\n",
       "dtype: object"
      ]
     },
     "execution_count": 203,
     "metadata": {},
     "output_type": "execute_result"
    }
   ],
   "source": [
    "datatypesOfFeatures"
   ]
  },
  {
   "cell_type": "code",
   "execution_count": null,
   "metadata": {},
   "outputs": [],
   "source": []
  },
  {
   "cell_type": "markdown",
   "metadata": {},
   "source": [
    "drop id and idhoghar as there or not significant variables for prediction"
   ]
  },
  {
   "cell_type": "code",
   "execution_count": 204,
   "metadata": {},
   "outputs": [],
   "source": [
    "df=df.drop(['Id','idhogar'],axis=1)"
   ]
  },
  {
   "cell_type": "code",
   "execution_count": 205,
   "metadata": {},
   "outputs": [],
   "source": [
    "datatypesOfFeatures=datatypesOfFeatures.drop(['Id','idhogar'])"
   ]
  },
  {
   "cell_type": "code",
   "execution_count": null,
   "metadata": {},
   "outputs": [],
   "source": []
  },
  {
   "cell_type": "markdown",
   "metadata": {},
   "source": [
    "# converting non int or float valued columns into numeric datatype columns"
   ]
  },
  {
   "cell_type": "code",
   "execution_count": 206,
   "metadata": {},
   "outputs": [],
   "source": [
    "for feature in datatypesOfFeatures.index:\n",
    "    df[feature]=pd.to_numeric(dataset[feature],errors='coerce')"
   ]
  },
  {
   "cell_type": "code",
   "execution_count": null,
   "metadata": {},
   "outputs": [],
   "source": []
  },
  {
   "cell_type": "markdown",
   "metadata": {},
   "source": [
    "# Using IQR method to deal with the outliers "
   ]
  },
  {
   "cell_type": "code",
   "execution_count": 207,
   "metadata": {},
   "outputs": [],
   "source": [
    "Q1 = df[datatypesOfFeatures.index].quantile(0.25)\n",
    "Q3 = df[datatypesOfFeatures.index].quantile(0.75)\n",
    "IQR = Q3 - Q1"
   ]
  },
  {
   "cell_type": "code",
   "execution_count": 208,
   "metadata": {},
   "outputs": [],
   "source": [
    "for col in datatypesOfFeatures.index:\n",
    "    updateNumLowHigh(col)"
   ]
  },
  {
   "cell_type": "code",
   "execution_count": 209,
   "metadata": {
    "scrolled": true
   },
   "outputs": [
    {
     "data": {
      "image/png": "[encoded data removed]",
      "text/plain": [
       "<Figure size 1152x360 with 3 Axes>"
      ]
     },
     "metadata": {
      "needs_background": "light"
     },
     "output_type": "display_data"
    }
   ],
   "source": [
    "fig, (axes) = plt.subplots(nrows=1, ncols=len(datatypesOfFeatures.index), figsize=(16, 5))\n",
    "i=0\n",
    "for col in datatypesOfFeatures.index:\n",
    "    sns.boxplot(data=df[col],  palette='Set2', ax=axes[i])\n",
    "    i=i+1"
   ]
  },
  {
   "cell_type": "code",
   "execution_count": 210,
   "metadata": {},
   "outputs": [],
   "source": [
    "imputer = SimpleImputer(missing_values=np.NaN, strategy='median')"
   ]
  },
  {
   "cell_type": "code",
   "execution_count": 211,
   "metadata": {},
   "outputs": [],
   "source": [
    "df.loc[:,datatypesOfFeatures.index]=imputer.fit_transform(df[datatypesOfFeatures.index])"
   ]
  },
  {
   "cell_type": "code",
   "execution_count": null,
   "metadata": {},
   "outputs": [],
   "source": []
  },
  {
   "cell_type": "code",
   "execution_count": 212,
   "metadata": {},
   "outputs": [],
   "source": [
    "numerical,catogerical=getCatogericalandNumericalColumns(df.columns)"
   ]
  },
  {
   "cell_type": "code",
   "execution_count": 213,
   "metadata": {},
   "outputs": [],
   "source": [
    "catogerical.remove('Target')"
   ]
  },
  {
   "cell_type": "code",
   "execution_count": null,
   "metadata": {},
   "outputs": [],
   "source": []
  },
  {
   "cell_type": "markdown",
   "metadata": {},
   "source": [
    "# Applying one hot encoding on catogerical columns and using standar scalar for scaling numeric columns\n"
   ]
  },
  {
   "cell_type": "code",
   "execution_count": 214,
   "metadata": {},
   "outputs": [],
   "source": [
    "from sklearn.preprocessing import StandardScaler, OneHotEncoder\n",
    "from sklearn.compose import ColumnTransformer, make_column_transformer"
   ]
  },
  {
   "cell_type": "code",
   "execution_count": 215,
   "metadata": {},
   "outputs": [],
   "source": [
    "preprocess = make_column_transformer(\n",
    "    (StandardScaler(), numerical),\n",
    "    (OneHotEncoder(),  catogerical)\n",
    ")"
   ]
  },
  {
   "cell_type": "code",
   "execution_count": 216,
   "metadata": {},
   "outputs": [],
   "source": [
    "new_features = preprocess.fit_transform(df)\n",
    "new_features_df = pd.DataFrame(data=new_features)"
   ]
  },
  {
   "cell_type": "code",
   "execution_count": null,
   "metadata": {},
   "outputs": [],
   "source": []
  },
  {
   "cell_type": "markdown",
   "metadata": {},
   "source": [
    "# segregating training and test set"
   ]
  },
  {
   "cell_type": "code",
   "execution_count": 217,
   "metadata": {},
   "outputs": [],
   "source": [
    "X_train=df[:9557]"
   ]
  },
  {
   "cell_type": "code",
   "execution_count": 218,
   "metadata": {},
   "outputs": [],
   "source": [
    "X_test=df[9557:]"
   ]
  },
  {
   "cell_type": "code",
   "execution_count": 219,
   "metadata": {},
   "outputs": [],
   "source": [
    "y_train=df.Target[:9557]"
   ]
  },
  {
   "cell_type": "code",
   "execution_count": 220,
   "metadata": {},
   "outputs": [],
   "source": [
    "y_test=df.Target[9557:]"
   ]
  },
  {
   "cell_type": "code",
   "execution_count": null,
   "metadata": {},
   "outputs": [],
   "source": []
  },
  {
   "cell_type": "code",
   "execution_count": null,
   "metadata": {},
   "outputs": [],
   "source": []
  },
  {
   "cell_type": "markdown",
   "metadata": {},
   "source": [
    "# Model Building - Random Forest"
   ]
  },
  {
   "cell_type": "markdown",
   "metadata": {},
   "source": [
    "## Running Random forest with various configurations"
   ]
  },
  {
   "cell_type": "code",
   "execution_count": 221,
   "metadata": {
    "scrolled": true
   },
   "outputs": [
    {
     "name": "stdout",
     "output_type": "stream",
     "text": [
      "0.9897719651240778\n"
     ]
    }
   ],
   "source": [
    "from sklearn.metrics import accuracy_score\n",
    "from sklearn.ensemble import RandomForestClassifier\n",
    "\n",
    "rfc = RandomForestClassifier()     #by default random forest is using 100 trees\n",
    "rfc.fit(X_train,y_train)\n",
    "\n",
    "y_pred=rfc.predict(X_test)\n",
    "\n",
    "print(accuracy_score(y_test,y_pred))"
   ]
  },
  {
   "cell_type": "code",
   "execution_count": null,
   "metadata": {},
   "outputs": [],
   "source": []
  },
  {
   "cell_type": "code",
   "execution_count": 222,
   "metadata": {},
   "outputs": [],
   "source": [
    "from sklearn.ensemble import RandomForestClassifier\n",
    "classifier = RandomForestClassifier(n_estimators=50, #50 estimators combined\n",
    "                                    max_depth=15, # Tree pruning\n",
    "                                   min_samples_leaf=5, #outliers!!\n",
    "                                   verbose=2,\n",
    "                                   n_jobs=4)"
   ]
  },
  {
   "cell_type": "code",
   "execution_count": 223,
   "metadata": {
    "scrolled": false
   },
   "outputs": [
    {
     "name": "stdout",
     "output_type": "stream",
     "text": [
      "building tree 1 of 50building tree 2 of 50\n",
      "\n",
      "building tree 3 of 50\n",
      "building tree 4 of 50\n",
      "building tree 5 of 50\n",
      "building tree 6 of 50\n",
      "building tree 7 of 50\n",
      "building tree 8 of 50\n",
      "building tree 9 of 50\n",
      "building tree 10 of 50\n",
      "building tree 11 of 50\n",
      "building tree 12 of 50\n",
      "building tree 13 of 50\n"
     ]
    },
    {
     "name": "stderr",
     "output_type": "stream",
     "text": [
      "[Parallel(n_jobs=4)]: Using backend ThreadingBackend with 4 concurrent workers.\n"
     ]
    },
    {
     "name": "stdout",
     "output_type": "stream",
     "text": [
      "building tree 14 of 50\n",
      "building tree 15 of 50\n",
      "building tree 16 of 50\n",
      "building tree 17 of 50\n",
      "building tree 18 of 50\n",
      "building tree 19 of 50\n",
      "building tree 20 of 50\n",
      "building tree 21 of 50\n",
      "building tree 22 of 50\n",
      "building tree 23 of 50\n",
      "building tree 24 of 50\n",
      "building tree 25 of 50\n",
      "building tree 26 of 50\n",
      "building tree 27 of 50building tree 28 of 50\n",
      "\n",
      "building tree 29 of 50\n",
      "building tree 30 of 50\n",
      "building tree 31 of 50\n",
      "building tree 32 of 50\n",
      "building tree 33 of 50\n",
      "building tree 34 of 50\n",
      "building tree 35 of 50\n",
      "building tree 36 of 50\n",
      "building tree 37 of 50building tree 38 of 50\n",
      "\n",
      "building tree 39 of 50\n",
      "building tree 40 of 50\n",
      "building tree 41 of 50\n",
      "building tree 42 of 50\n",
      "building tree 43 of 50\n",
      "building tree 44 of 50building tree 45 of 50\n",
      "\n",
      "building tree 46 of 50\n",
      "building tree 47 of 50\n",
      "building tree 48 of 50building tree 49 of 50\n",
      "\n",
      "building tree 50 of 50\n"
     ]
    },
    {
     "name": "stderr",
     "output_type": "stream",
     "text": [
      "[Parallel(n_jobs=4)]: Done  33 tasks      | elapsed:    0.1s\n",
      "[Parallel(n_jobs=4)]: Done  50 out of  50 | elapsed:    0.2s finished\n",
      "[Parallel(n_jobs=4)]: Using backend ThreadingBackend with 4 concurrent workers.\n"
     ]
    },
    {
     "name": "stdout",
     "output_type": "stream",
     "text": [
      "0.9906103286384976\n"
     ]
    },
    {
     "name": "stderr",
     "output_type": "stream",
     "text": [
      "[Parallel(n_jobs=4)]: Done  33 tasks      | elapsed:    0.0s\n",
      "[Parallel(n_jobs=4)]: Done  50 out of  50 | elapsed:    0.0s finished\n"
     ]
    }
   ],
   "source": [
    "classifier.fit(X_train,y_train)\n",
    "\n",
    "y_pred=classifier.predict(X_test)\n",
    "\n",
    "print(accuracy_score(y_test,y_pred))"
   ]
  },
  {
   "cell_type": "markdown",
   "metadata": {},
   "source": [
    "### Trying different tree sizes to check if the accuracy is improving"
   ]
  },
  {
   "cell_type": "code",
   "execution_count": 224,
   "metadata": {
    "scrolled": true
   },
   "outputs": [
    {
     "name": "stdout",
     "output_type": "stream",
     "text": [
      "10 0.9459674714956405\n",
      "20 0.9496981891348089\n",
      "30 0.9753521126760564\n",
      "40 0.9782444668008048\n",
      "50 0.9754359490274983\n",
      "60 0.9793343393695506\n",
      "70 0.9799211938296445\n",
      "80 0.977154594232059\n",
      "90 0.983190811535882\n",
      "100 0.9834004024144869\n",
      "110 0.9855382293762576\n",
      "120 0.9881371562709591\n",
      "130 0.988556338028169\n",
      "140 0.9889755197853789\n"
     ]
    }
   ],
   "source": [
    "for trees in range(10, 150, 10):\n",
    "    \n",
    "    rf=RandomForestClassifier(n_estimators=trees,random_state=7)\n",
    "\n",
    "    rf.fit(X_train,y_train)\n",
    "    y_pred=rf.predict(X_test)\n",
    "    \n",
    "    print(trees, accuracy_score(y_test,y_pred))\n",
    "  "
   ]
  },
  {
   "cell_type": "markdown",
   "metadata": {},
   "source": [
    "seems like there is no major improvement when threshold exceeds 90"
   ]
  },
  {
   "cell_type": "markdown",
   "metadata": {},
   "source": [
    "## using Entropy as evaluation metric"
   ]
  },
  {
   "cell_type": "code",
   "execution_count": 225,
   "metadata": {
    "scrolled": false
   },
   "outputs": [
    {
     "name": "stdout",
     "output_type": "stream",
     "text": [
      "0.9975687458081824\n"
     ]
    }
   ],
   "source": [
    "r=RandomForestClassifier(n_estimators=30,criterion='entropy',max_depth=3,random_state=7)     #by default criterion is gini\n",
    "r.fit(X_train,y_train)\n",
    "y_pred=r.predict(X_test)\n",
    "print(accuracy_score(y_test,y_pred))\n",
    "\n",
    "\n"
   ]
  },
  {
   "cell_type": "markdown",
   "metadata": {},
   "source": [
    "## using GINI as evaluation metric"
   ]
  },
  {
   "cell_type": "code",
   "execution_count": 226,
   "metadata": {},
   "outputs": [
    {
     "name": "stdout",
     "output_type": "stream",
     "text": [
      "0.9668008048289738\n"
     ]
    }
   ],
   "source": [
    "r=RandomForestClassifier(n_estimators=30,criterion='gini',max_depth=13,random_state=7)\n",
    "r.fit(X_train,y_train)\n",
    "y_pred=r.predict(X_test)\n",
    "print(accuracy_score(y_test,y_pred))\n",
    "\n",
    "\n",
    "\n"
   ]
  },
  {
   "cell_type": "markdown",
   "metadata": {},
   "source": [
    "## using OOBsamples for testing the accuracy "
   ]
  },
  {
   "cell_type": "code",
   "execution_count": 227,
   "metadata": {},
   "outputs": [
    {
     "name": "stdout",
     "output_type": "stream",
     "text": [
      "Test accuracy 0.9927900737759893\n",
      "OOB SCORE 0.9842000627812075\n",
      "Feature importance [9.69022644e-03 2.14286106e-03 1.25886757e-02 8.59843248e-04\n",
      " 2.70027614e-04 1.89087750e-03 6.94133022e-03 1.40052808e-03\n",
      " 6.63369606e-03 1.01777010e-02 9.54724960e-03 7.33872803e-03\n",
      " 7.66704084e-03 9.32449955e-03 1.30650840e-02 1.00256937e-02\n",
      " 5.85407117e-03 6.23050011e-03 6.78517777e-03 8.11056401e-03\n",
      " 8.15510630e-04 6.33415262e-03 7.96159464e-03 2.97935786e-03\n",
      " 4.42235343e-03 4.57029153e-04 3.53745864e-03 6.00773752e-04\n",
      " 4.88076361e-05 5.17297757e-05 5.73876096e-03 4.68854498e-03\n",
      " 0.00000000e+00 2.57100027e-05 8.40671838e-04 2.72611194e-03\n",
      " 1.06124438e-03 5.36404495e-04 1.72911905e-04 3.42027471e-06\n",
      " 1.44514935e-02 1.55642449e-03 1.10447292e-03 2.91852767e-04\n",
      " 2.56133045e-03 3.35468383e-05 1.30275205e-04 2.64360045e-03\n",
      " 1.50123081e-04 3.18832152e-03 3.76495349e-03 1.10871337e-03\n",
      " 2.50891318e-04 2.10656699e-04 4.86584790e-03 4.80147065e-03\n",
      " 2.63206556e-03 2.96115321e-03 9.83474644e-04 2.75963479e-03\n",
      " 8.91433728e-05 0.00000000e+00 1.85476277e-05 3.29921917e-03\n",
      " 4.48081477e-03 7.47597021e-03 3.70184743e-03 4.28156641e-03\n",
      " 5.86041738e-03 3.48627266e-03 4.52630156e-03 7.77264047e-03\n",
      " 1.16800213e-03 1.44996616e-03 1.43320304e-03 5.23628970e-04\n",
      " 1.67304262e-03 1.79517607e-03 4.83893386e-04 1.12690737e-03\n",
      " 7.13849938e-04 1.59877406e-03 1.07362371e-03 8.33165915e-04\n",
      " 1.35604730e-03 4.49996447e-04 8.33972651e-05 7.64293815e-04\n",
      " 1.72420026e-04 5.54534897e-05 3.27892385e-04 6.82956199e-05\n",
      " 2.46170108e-04 1.77930903e-04 1.28396506e-02 9.10368948e-03\n",
      " 4.23637976e-03 6.24253617e-03 1.85078128e-02 1.41039423e-02\n",
      " 9.60397711e-03 3.45701678e-02 8.41195061e-04 1.57429861e-03\n",
      " 1.35525150e-03 1.12491192e-03 8.40711773e-04 5.24219302e-04\n",
      " 3.44868616e-04 1.81013819e-03 1.67566312e-05 8.18976945e-03\n",
      " 1.49570263e-02 4.49411480e-03 1.90938216e-03 3.66787248e-03\n",
      " 1.26376764e-03 3.15090354e-03 1.66240057e-03 4.77436794e-03\n",
      " 1.49305893e-03 1.52576832e-02 5.55099902e-03 2.67375569e-03\n",
      " 3.34191743e-03 2.72726607e-03 3.43495214e-03 2.51484089e-03\n",
      " 4.34267252e-03 4.28059916e-03 8.81181306e-03 7.31654989e-03\n",
      " 8.26607369e-03 5.93543313e-03 1.49679811e-02 1.19945659e-02\n",
      " 1.55224588e-02 2.39649913e-02 3.20012937e-02 8.49941283e-03\n",
      " 3.62826470e-01]\n"
     ]
    }
   ],
   "source": [
    "rfc2=RandomForestClassifier(n_estimators=30, oob_score=True, random_state=111)\n",
    "\n",
    "rfc2.fit(X_train,y_train)\n",
    "\n",
    "y_pred=rfc2.predict(X_test)\n",
    "\n",
    "print('Test accuracy',accuracy_score(y_test,y_pred))\n",
    "\n",
    "print('OOB SCORE',rfc2.oob_score_)\n",
    "\n",
    "print('Feature importance',rfc.feature_importances_)"
   ]
  },
  {
   "cell_type": "code",
   "execution_count": null,
   "metadata": {},
   "outputs": [],
   "source": []
  },
  {
   "cell_type": "code",
   "execution_count": null,
   "metadata": {},
   "outputs": [],
   "source": []
  },
  {
   "cell_type": "code",
   "execution_count": null,
   "metadata": {},
   "outputs": [],
   "source": []
  }
 ],
 "metadata": {
  "kernelspec": {
   "display_name": "Python 3",
   "language": "python",
   "name": "python3"
  },
  "language_info": {
   "codemirror_mode": {
    "name": "ipython",
    "version": 3
   },
   "file_extension": ".py",
   "mimetype": "text/x-python",
   "name": "python",
   "nbconvert_exporter": "python",
   "pygments_lexer": "ipython3",
   "version": "3.6.10"
  }
 },
 "nbformat": 4,
 "nbformat_minor": 4
}
